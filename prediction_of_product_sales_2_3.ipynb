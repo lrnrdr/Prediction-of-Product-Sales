{
  "nbformat": 4,
  "nbformat_minor": 0,
  "metadata": {
    "colab": {
      "provenance": [],
      "authorship_tag": "ABX9TyOiX4zPrVP2t0cUi89FlFXH",
      "include_colab_link": true
    },
    "kernelspec": {
      "name": "python3",
      "display_name": "Python 3"
    },
    "language_info": {
      "name": "python"
    }
  },
  "cells": [
    {
      "cell_type": "markdown",
      "metadata": {
        "id": "view-in-github",
        "colab_type": "text"
      },
      "source": [
        "<a href=\"https://colab.research.google.com/github/lrnrdr/Prediction-of-Product-Sales/blob/main/prediction_of_product_sales_2_3.ipynb\" target=\"_parent\"><img src=\"https://colab.research.google.com/assets/colab-badge.svg\" alt=\"Open In Colab\"/></a>"
      ]
    },
    {
      "cell_type": "markdown",
      "source": [
        "# Project Title: (Prediction of Product Sales).\n",
        "- Author: Loraine Rodriguez\n",
        "\n",
        "\n",
        "## Project Overview\n",
        "## Load and Inspect Data\n",
        "## Clean Data\n",
        "## Exploratory Data Analysis\n",
        "## Feature Inspection"
      ],
      "metadata": {
        "id": "chmqX9w9qRHT"
      }
    }
  ]
}