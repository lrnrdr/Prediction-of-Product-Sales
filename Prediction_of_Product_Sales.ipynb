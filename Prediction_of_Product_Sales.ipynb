{
  "nbformat": 4,
  "nbformat_minor": 0,
  "metadata": {
    "colab": {
      "provenance": [],
      "authorship_tag": "ABX9TyM96L8AsIUq/iXx+Olc8fb+",
      "include_colab_link": true
    },
    "kernelspec": {
      "name": "python3",
      "display_name": "Python 3"
    },
    "language_info": {
      "name": "python"
    }
  },
  "cells": [
    {
      "cell_type": "markdown",
      "metadata": {
        "id": "view-in-github",
        "colab_type": "text"
      },
      "source": [
        "<a href=\"https://colab.research.google.com/github/lrnrdr/Prediction-of-Product-Sales/blob/main/Prediction_of_Product_Sales.ipynb\" target=\"_parent\"><img src=\"https://colab.research.google.com/assets/colab-badge.svg\" alt=\"Open In Colab\"/></a>"
      ]
    },
    {
      "cell_type": "markdown",
      "source": [
        "# Project Title: (Prediction of Product Sales).\n",
        "- Author: Loraine Rodriguez\n",
        "\n",
        "\n",
        "## Project Overview\n",
        "## Load and Inspect Data\n",
        "## Clean Data\n",
        "## Exploratory Data Analysis\n",
        "## Feature Inspection\n",
        "\n",
        "\n"
      ],
      "metadata": {
        "id": "4Zt0GxSH-1cv"
      }
    }
  ]
}